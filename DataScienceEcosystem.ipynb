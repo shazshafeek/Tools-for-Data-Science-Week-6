{
 "cells": [
  {
   "cell_type": "markdown",
   "id": "c3ee1dcb-74a7-4129-98cc-e4c76b8c633a",
   "metadata": {
    "tags": []
   },
   "source": [
    "# Data Science Tools and Ecosystem"
   ]
  },
  {
   "cell_type": "markdown",
   "id": "b0c8d638-d8ec-4c24-86f2-10f56f8c4030",
   "metadata": {},
   "source": [
    "In this notebook, Data Science Tools and Ecosystem are summarized."
   ]
  },
  {
   "cell_type": "markdown",
   "id": "3ae8db61-3a9e-4b4b-8dbe-5b18c156b36c",
   "metadata": {},
   "source": [
    "Some of the popular languages that Data Scientists use are:\n",
    "1. Python\n",
    "2. R\n",
    "3. SQL"
   ]
  },
  {
   "cell_type": "markdown",
   "id": "550d415c-d767-4a66-958a-261711b98e0c",
   "metadata": {},
   "source": [
    "Some of the commonly used libraries used by Data Scientists include:\n",
    "1. TensorFlow\n",
    "2. NumPy\n",
    "3. SciPy\n",
    "4. Pandas"
   ]
  },
  {
   "cell_type": "markdown",
   "id": "61cf38b8-6b7f-48bd-a7a9-83452fc02f1f",
   "metadata": {},
   "source": [
    "| Data Science Tools |\n",
    "|---|\n",
    "| SAS |\n",
    "| TensorFlow |\n",
    "| Apache Hadoop |"
   ]
  },
  {
   "cell_type": "markdown",
   "id": "97e99f44-8428-40af-aad1-79a9f7a16e25",
   "metadata": {},
   "source": [
    "### Below are a few examples of evaluating arithmetic expressions in Python"
   ]
  },
  {
   "cell_type": "code",
   "execution_count": 1,
   "id": "babb7398-e191-4bf7-a4fb-b7719f0a23e0",
   "metadata": {
    "tags": []
   },
   "outputs": [
    {
     "data": {
      "text/plain": [
       "17"
      ]
     },
     "execution_count": 1,
     "metadata": {},
     "output_type": "execute_result"
    }
   ],
   "source": [
    "#this is a common arithmetic exammple to multiply and then add integers\n",
    "(3*4)+5"
   ]
  },
  {
   "cell_type": "code",
   "execution_count": 2,
   "id": "1abd4f58-c8b9-4015-a3ab-085f26e3ea28",
   "metadata": {
    "tags": []
   },
   "outputs": [
    {
     "data": {
      "text/plain": [
       "3.3333333333333335"
      ]
     },
     "execution_count": 2,
     "metadata": {},
     "output_type": "execute_result"
    }
   ],
   "source": [
    "#This will convert 200 minutes to hours by diving by 60\n",
    "200/60"
   ]
  },
  {
   "cell_type": "markdown",
   "id": "49f00304-eb31-44be-aeec-58e3c1302186",
   "metadata": {},
   "source": [
    "_Objectives:_\n",
    "* Listed popular languages used in Data Science\n",
    "* Listed popular libraries used in Data Science\n",
    "* Listed well known tools used in Data Science\n",
    "* Introduced arithmetic expression examples"
   ]
  },
  {
   "cell_type": "markdown",
   "id": "fe25c425-3bfe-4b56-9ee3-68588b35f023",
   "metadata": {},
   "source": [
    "## Author\n",
    "Shaz"
   ]
  }
 ],
 "metadata": {
  "kernelspec": {
   "display_name": "Python",
   "language": "python",
   "name": "conda-env-python-py"
  },
  "language_info": {
   "codemirror_mode": {
    "name": "ipython",
    "version": 3
   },
   "file_extension": ".py",
   "mimetype": "text/x-python",
   "name": "python",
   "nbconvert_exporter": "python",
   "pygments_lexer": "ipython3",
   "version": "3.7.12"
  }
 },
 "nbformat": 4,
 "nbformat_minor": 5
}
